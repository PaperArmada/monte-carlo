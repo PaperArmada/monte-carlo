{
 "cells": [
  {
   "cell_type": "markdown",
   "metadata": {},
   "source": [
    "### **Integration in High-Dimensional Spaces**\n",
    "\n",
    "**Concept:**\n",
    "\n",
    "Monte Carlo methods excel in estimating integrals in high-dimensional spaces, where traditional numerical integration methods become infeasible due to the curse of dimensionality.\n",
    "\n",
    "**Example:**\n",
    "\n",
    "Estimate the volume of a 10-dimensional unit hypersphere.\n",
    "\n",
    "**Mathematical Formulation:**\n",
    "\n",
    "The volume \\( $V$ \\) of a unit hypersphere in \\( $n$ \\) dimensions is:\n",
    "\n",
    "\\[\n",
    "$V = \\frac{\\pi^{n/2}}{\\Gamma\\left(\\frac{n}{2} + 1\\right)}$\n",
    "\\]\n",
    "\n",
    "**Simulation Steps:**\n",
    "\n",
    "1. **Sample Points in \\( $n$ \\)-Dimensional Cube:**\n",
    "\n",
    "   - Each coordinate ranges from \\($-1$\\) to \\($1$\\).\n",
    "   \n",
    "2. **Check if Points are Inside the Hypersphere:**\n",
    "\n",
    "   - Compute \\( $\\sum_{i=1}^{n} x_i^2 \\leq 1$ \\).\n",
    "   \n",
    "3. **Estimate Volume:**\n",
    "\n",
    "   - The ratio of points inside the hypersphere to total points times the volume of the cube.\n",
    "\n"
   ]
  },
  {
   "cell_type": "code",
   "execution_count": 1,
   "metadata": {},
   "outputs": [],
   "source": [
    "import numpy as np"
   ]
  },
  {
   "cell_type": "code",
   "execution_count": 2,
   "metadata": {},
   "outputs": [],
   "source": [
    "def monte_carlo_hypersphere_volume(n, num_samples):\n",
    "    # Generate random points in n-dimensional space\n",
    "    X = np.random.uniform(-1, 1, size=(num_samples, n))\n",
    "\n",
    "    # Compute squared distance from origin\n",
    "    distances_squared = np.sum(X**2, axis=1)\n",
    "\n",
    "    # Count points inside the hypersphere\n",
    "    inside_sphere = distances_squared <= 1\n",
    "    fraction_inside = np.sum(inside_sphere) / num_samples\n",
    "\n",
    "    # Volume of the n-dimensional cube is \\( $2^n$ \\)\n",
    "    cube_volume = 2 ** n\n",
    "    sphere_volume_estimate = fraction_inside * cube_volume\n",
    "    return sphere_volume_estimate"
   ]
  },
  {
   "cell_type": "code",
   "execution_count": 3,
   "metadata": {},
   "outputs": [],
   "source": [
    "# Parameters\n",
    "n = 10      # Dimensions\n",
    "num_samples = 1_000_000"
   ]
  },
  {
   "cell_type": "code",
   "execution_count": 4,
   "metadata": {},
   "outputs": [
    {
     "name": "stdout",
     "output_type": "stream",
     "text": [
      "Estimated Volume of a 10-D Unit Hypersphere: 2.473984\n"
     ]
    }
   ],
   "source": [
    "# Estimate volume\n",
    "estimated_volume = monte_carlo_hypersphere_volume(n, num_samples)\n",
    "print(f\"Estimated Volume of a {n}-D Unit Hypersphere: {estimated_volume:.6f}\")"
   ]
  },
  {
   "cell_type": "markdown",
   "metadata": {},
   "source": [
    "**Explanation:**\n",
    "\n",
    "- **Random Sampling:** Generates points uniformly within the hypercube.\n",
    "- **Inside Hypersphere Check:** Uses the equation of a hypersphere.\n",
    "- **Volume Estimation:** Scales the fraction of points inside by the volume of the hypercube.\n",
    "\n",
    "**Benefits:**\n",
    "\n",
    "- Overcomes the exponential increase in computational cost with dimensionality.\n",
    "- Applicable in fields like physics, finance, and machine learning.\n"
   ]
  }
 ],
 "metadata": {
  "kernelspec": {
   "display_name": "base",
   "language": "python",
   "name": "python3"
  },
  "language_info": {
   "codemirror_mode": {
    "name": "ipython",
    "version": 3
   },
   "file_extension": ".py",
   "mimetype": "text/x-python",
   "name": "python",
   "nbconvert_exporter": "python",
   "pygments_lexer": "ipython3",
   "version": "3.11.5"
  }
 },
 "nbformat": 4,
 "nbformat_minor": 2
}
