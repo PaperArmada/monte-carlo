{
 "cells": [
  {
   "cell_type": "markdown",
   "metadata": {},
   "source": [
    "### **Monte Carlo Simulation in Project Management for Critical Path Analysis**\n",
    "\n",
    "**Concept:**\n",
    "\n",
    "In project management, Monte Carlo simulation helps assess the impact of uncertainty in project schedules. By modeling the variability in task durations, you can estimate the probability of meeting deadlines.\n",
    "\n",
    "**Simulation Steps:**\n",
    "\n",
    "1. **Define Project Tasks and Dependencies:**\n",
    "\n",
    "   - Create a network diagram with tasks, durations, and dependencies.\n",
    "   \n",
    "2. **Assign Probability Distributions to Task Durations:**\n",
    "\n",
    "   - Use distributions like triangular, normal, or beta to model uncertainty.\n",
    "   \n",
    "3. **Run Simulations:**\n",
    "\n",
    "   - For each iteration, sample task durations and calculate the project completion time.\n",
    "   \n",
    "4. **Analyze Results:**\n",
    "\n",
    "   - Compile the distribution of completion times to assess risk.\n",
    "\n"
   ]
  },
  {
   "cell_type": "code",
   "execution_count": 1,
   "metadata": {},
   "outputs": [],
   "source": [
    "import numpy as np\n",
    "import pandas as pd\n",
    "import matplotlib.pyplot as plt"
   ]
  },
  {
   "cell_type": "code",
   "execution_count": 2,
   "metadata": {},
   "outputs": [],
   "source": [
    "# Define tasks with optimistic, most likely, and pessimistic durations\n",
    "tasks = {\n",
    "    'Task A': {'predecessors': [], 'duration': [2, 4, 6]},  # [optimistic, most likely, pessimistic]\n",
    "    'Task B': {'predecessors': ['Task A'], 'duration': [3, 5, 7]},\n",
    "    'Task C': {'predecessors': ['Task A'], 'duration': [1, 2, 3]},\n",
    "    'Task D': {'predecessors': ['Task B', 'Task C'], 'duration': [2, 3, 4]}\n",
    "}"
   ]
  },
  {
   "cell_type": "code",
   "execution_count": 4,
   "metadata": {},
   "outputs": [],
   "source": [
    "def sample_task_duration(triple):\n",
    "    # Use PERT (Program Evaluation and Review Technique) Beta Distribution\n",
    "    optimistic, most_likely, pessimistic = triple\n",
    "    mean = (optimistic + 4 * most_likely + pessimistic) / 6\n",
    "    std_dev = (pessimistic - optimistic) / 6\n",
    "    return np.random.normal(mean, std_dev)"
   ]
  },
  {
   "cell_type": "code",
   "execution_count": 7,
   "metadata": {},
   "outputs": [],
   "source": [
    "def monte_carlo_schedule(tasks, num_simulations):\n",
    "    project_durations = []\n",
    "    for _ in range(num_simulations):\n",
    "        task_durations = {}\n",
    "        for task, info in tasks.items():\n",
    "            duration = sample_task_duration(info['duration'])\n",
    "            predecessors = info['predecessors']\n",
    "            if predecessors:\n",
    "                start_time = max(task_durations[p] for p in predecessors)\n",
    "            else:\n",
    "                start_time = 0\n",
    "            finish_time = start_time + duration\n",
    "            task_durations[task] = finish_time\n",
    "        project_duration = max(task_durations.values())\n",
    "        project_durations.append(project_duration)\n",
    "    return project_durations"
   ]
  },
  {
   "cell_type": "code",
   "execution_count": 8,
   "metadata": {},
   "outputs": [],
   "source": [
    "# Run simulations\n",
    "num_simulations = 10_000\n",
    "project_durations = monte_carlo_schedule(tasks, num_simulations)"
   ]
  },
  {
   "cell_type": "code",
   "execution_count": 10,
   "metadata": {},
   "outputs": [
    {
     "name": "stdout",
     "output_type": "stream",
     "text": [
      "Expected Project Duration: 12.01 days\n",
      "90th Percentile Duration: 13.28 days\n"
     ]
    }
   ],
   "source": [
    "# Analyze results\n",
    "mean_duration = np.mean(project_durations)\n",
    "percentile_90 = np.percentile(project_durations, 90)\n",
    "\n",
    "print(f\"Expected Project Duration: {mean_duration:.2f} days\")\n",
    "print(f\"90th Percentile Duration: {percentile_90:.2f} days\")"
   ]
  },
  {
   "cell_type": "code",
   "execution_count": 11,
   "metadata": {},
   "outputs": [
    {
     "data": {
      "image/png": "[encoded data removed]",
      "text/plain": [
       "<Figure size 640x480 with 1 Axes>"
      ]
     },
     "metadata": {},
     "output_type": "display_data"
    }
   ],
   "source": [
    "# Plot histogram\n",
    "plt.hist(project_durations, bins=50, alpha=0.7, color='skyblue')\n",
    "plt.title(\"Project Completion Time Distribution\")\n",
    "plt.xlabel(\"Days\")\n",
    "plt.ylabel(\"Frequency\")\n",
    "plt.show()"
   ]
  },
  {
   "cell_type": "markdown",
   "metadata": {},
   "source": [
    "**Explanation:**\n",
    "\n",
    "- **Task Durations:** Sampled using a simplified PERT distribution.\n",
    "- **Dependencies:** Ensures that tasks start after their predecessors are complete.\n",
    "- **Project Duration:** The maximum finish time among all tasks.\n",
    "\n",
    "**Benefits:**\n",
    "\n",
    "- Helps identify the probability of meeting project deadlines.\n",
    "- Allows for better risk management and contingency planning."
   ]
  },
  {
   "cell_type": "markdown",
   "metadata": {},
   "source": []
  }
 ],
 "metadata": {
  "kernelspec": {
   "display_name": "base",
   "language": "python",
   "name": "python3"
  },
  "language_info": {
   "codemirror_mode": {
    "name": "ipython",
    "version": 3
   },
   "file_extension": ".py",
   "mimetype": "text/x-python",
   "name": "python",
   "nbconvert_exporter": "python",
   "pygments_lexer": "ipython3",
   "version": "3.11.5"
  }
 },
 "nbformat": 4,
 "nbformat_minor": 2
}
