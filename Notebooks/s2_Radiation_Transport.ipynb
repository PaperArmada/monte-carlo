{
 "cells": [
  {
   "cell_type": "markdown",
   "metadata": {},
   "source": [
    "### **Radiation Transport Simulations in Physics**\n",
    "\n",
    "**Concept:**\n",
    "\n",
    "Monte Carlo methods simulate the interaction of particles (like photons or neutrons) with matter, accounting for random scattering and absorption events.\n",
    "\n",
    "**Simulation Steps:**\n",
    "\n",
    "1. **Define Particle Properties:**\n",
    "\n",
    "   - Energy, position, and direction.\n",
    "   \n",
    "2. **Simulate Particle Tracks:**\n",
    "\n",
    "   - At each step, determine the distance to the next interaction based on mean free paths.\n",
    "   - Decide the type of interaction (scatter, absorption) using probabilities.\n",
    "   \n",
    "3. **Accumulate Results:**\n",
    "\n",
    "   - Record quantities like energy deposition, transmission, or reflection.\n",
    "   \n",
    "4. **Repeat for Many Particles:**\n",
    "\n",
    "   - Collect statistics to estimate macroscopic properties.\n",
    "\n"
   ]
  },
  {
   "cell_type": "code",
   "execution_count": 4,
   "metadata": {},
   "outputs": [],
   "source": [
    "import numpy as np\n",
    "import matplotlib.pyplot as plt"
   ]
  },
  {
   "cell_type": "code",
   "execution_count": 5,
   "metadata": {},
   "outputs": [],
   "source": [
    "def monte_carlo_radiation_transport(num_particles, absorption_prob, scattering_prob, max_distance):\n",
    "    transmissions = []\n",
    "    for _ in range(num_particles):\n",
    "        position = 0\n",
    "        while True:\n",
    "            # Sample distance to next interaction\n",
    "            step = -np.log(np.random.rand())\n",
    "            position += step\n",
    "            if position >= max_distance:\n",
    "                # Particle exits the medium\n",
    "                transmissions.append(position)\n",
    "                break\n",
    "            else:\n",
    "                # Determine interaction type\n",
    "                rand = np.random.rand()\n",
    "                if rand < absorption_prob:\n",
    "                    # Particle absorbed\n",
    "                    break\n",
    "                elif rand < absorption_prob + scattering_prob:\n",
    "                    # Partical scattered; for simplicity assume it continues forward\n",
    "                    continue\n",
    "                else:\n",
    "                    # No interaction (should not happen if probabilities sum to 1)\n",
    "                    continue\n",
    "    transmission_rate = len(transmissions) / num_particles\n",
    "    return transmission_rate"
   ]
  },
  {
   "cell_type": "code",
   "execution_count": 6,
   "metadata": {},
   "outputs": [],
   "source": [
    "# Parameters\n",
    "num_particles = 10_000\n",
    "absorption_prob = 0.3\n",
    "scattering_prob = 0.7\n",
    "max_distance = 10"
   ]
  },
  {
   "cell_type": "code",
   "execution_count": 7,
   "metadata": {},
   "outputs": [
    {
     "name": "stdout",
     "output_type": "stream",
     "text": [
      "Estimated Transmission Rate: 0.0522\n"
     ]
    }
   ],
   "source": [
    "# Run simulation\n",
    "transmission_rate = monte_carlo_radiation_transport(num_particles, absorption_prob, scattering_prob, max_distance)\n",
    "print(f\"Estimated Transmission Rate: {transmission_rate:.4f}\")"
   ]
  },
  {
   "cell_type": "markdown",
   "metadata": {},
   "source": [
    "**Explanation:**\n",
    "\n",
    "- **Interaction Probabilities:** Determine whether a particle is absorbed or scattered at each interaction.\n",
    "- **Distance Sampling:** Uses the exponential distribution to model distances between interactions.\n",
    "- **Transmission Rate:** The fraction of particles that exit the medium without being absorbed.\n",
    "\n",
    "**Benefits:**\n",
    "\n",
    "- Essential for designing shielding materials and medical imaging equipment.\n",
    "- Allows for detailed modeling of complex geometries and materials."
   ]
  },
  {
   "cell_type": "markdown",
   "metadata": {},
   "source": []
  }
 ],
 "metadata": {
  "kernelspec": {
   "display_name": "base",
   "language": "python",
   "name": "python3"
  },
  "language_info": {
   "codemirror_mode": {
    "name": "ipython",
    "version": 3
   },
   "file_extension": ".py",
   "mimetype": "text/x-python",
   "name": "python",
   "nbconvert_exporter": "python",
   "pygments_lexer": "ipython3",
   "version": "3.11.5"
  }
 },
 "nbformat": 4,
 "nbformat_minor": 2
}
