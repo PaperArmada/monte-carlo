{
 "cells": [
  {
   "cell_type": "markdown",
   "metadata": {},
   "source": [
    "### **Estimating Value at Risk (VaR)**\n",
    "\n",
    "**Concept:**\n",
    "\n",
    "Value at Risk is a statistical measure used to assess the potential loss in value of a risky asset or portfolio over a specific time period, under normal market conditions.\n",
    "\n",
    "**Simulation Steps:**\n",
    "\n",
    "1. **Model Portfolio Returns:**\n",
    "\n",
    "   - Assume the portfolio returns follow a normal distribution (or another suitable distribution).\n",
    "   \n",
    "2. **Generate Return Scenarios:**\n",
    "\n",
    "   - Use Monte Carlo simulation to generate a large number of possible returns.\n",
    "   \n",
    "3. **Calculate Portfolio Values:**\n",
    "\n",
    "   - Apply the simulated returns to the current portfolio value.\n",
    "   \n",
    "4. **Determine VaR:**\n",
    "\n",
    "   - Sort the simulated portfolio values and find the percentile corresponding to the desired confidence level (e.g., 95%).\n",
    "\n"
   ]
  },
  {
   "cell_type": "code",
   "execution_count": 1,
   "metadata": {},
   "outputs": [],
   "source": [
    "import numpy as np"
   ]
  },
  {
   "cell_type": "code",
   "execution_count": 2,
   "metadata": {},
   "outputs": [],
   "source": [
    "def monte_carlo_var(portfolio_value, mu, sigma, time_horizon, confidence_level, num_simulations):\n",
    "    # Step 1: Generate simulated returns\n",
    "    simulated_returns = np.random.normal(mu * time_horizon, sigma * np.sqrt(time_horizon), num_simulations)\n",
    "\n",
    "    # Step 2: Calculate simulated portfolio values\n",
    "    simulated_values = portfolio_value * (1 + simulated_returns)\n",
    "\n",
    "    # Step 3: Calculate potential losses\n",
    "    potential_losses = portfolio_value - simulated_values\n",
    "\n",
    "    # Step 4: Determine VaR\n",
    "    VaR = np.percentile(potential_losses, confidence_level * 100)\n",
    "    return VaR"
   ]
  },
  {
   "cell_type": "code",
   "execution_count": 4,
   "metadata": {},
   "outputs": [],
   "source": [
    "# Parameters\n",
    "portfolio_value = 1_000_000     # Current portfolio value\n",
    "mu = 0.07                       # Expected annual return\n",
    "sigma = 0.15                    # Annual volatility\n",
    "time_horizon = 1/252            # One trading day\n",
    "confidence_level = 0.95\n",
    "num_simulations = 100_000"
   ]
  },
  {
   "cell_type": "code",
   "execution_count": 6,
   "metadata": {},
   "outputs": [
    {
     "name": "stdout",
     "output_type": "stream",
     "text": [
      "Estimated Value at Risk (VaR) at 95.0% confidence level: $15219.50\n"
     ]
    }
   ],
   "source": [
    "# Estimate VaR\n",
    "VaR = monte_carlo_var(portfolio_value, mu, sigma, time_horizon, confidence_level, num_simulations)\n",
    "print(f\"Estimated Value at Risk (VaR) at {confidence_level*100}% confidence level: ${VaR:.2f}\")"
   ]
  },
  {
   "cell_type": "markdown",
   "metadata": {},
   "source": [
    "**Explanation:**\n",
    "\n",
    "- **Simulated Returns:** Generated based on expected return \\( \\mu \\) and volatility \\( \\sigma \\) over the time horizon.\n",
    "- **Potential Losses:** Calculated by comparing the initial portfolio value with simulated future values.\n",
    "- **VaR Calculation:** The percentile function determines the loss amount not exceeded with a certain confidence level.\n",
    "\n",
    "**Benefits:**\n",
    "\n",
    "- Captures the impact of non-linearities and complex portfolio compositions.\n",
    "- Provides a probabilistic measure of potential losses.\n"
   ]
  },
  {
   "cell_type": "markdown",
   "metadata": {},
   "source": []
  }
 ],
 "metadata": {
  "kernelspec": {
   "display_name": "base",
   "language": "python",
   "name": "python3"
  },
  "language_info": {
   "codemirror_mode": {
    "name": "ipython",
    "version": 3
   },
   "file_extension": ".py",
   "mimetype": "text/x-python",
   "name": "python",
   "nbconvert_exporter": "python",
   "pygments_lexer": "ipython3",
   "version": "3.11.5"
  }
 },
 "nbformat": 4,
 "nbformat_minor": 2
}
