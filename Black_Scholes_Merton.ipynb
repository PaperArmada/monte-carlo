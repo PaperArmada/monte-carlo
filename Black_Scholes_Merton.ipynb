{
 "cells": [
  {
   "cell_type": "markdown",
   "metadata": {},
   "source": [
    "### **Option Pricing in Finance Using Monte Carlo Simulation**\n",
    "\n",
    "**Concept:**\n",
    "\n",
    "Monte Carlo methods are widely used in quantitative finance to price complex financial derivatives, especially when analytical solutions are not available. We'll focus on pricing a European call option using the Black-Scholes-Merton model.\n",
    "\n",
    "**Background:**\n",
    "\n",
    "A European call option gives the holder the right, but not the obligation, to buy an underlying asset at a specified strike price \\( K \\) on a specified expiration date \\( T \\).\n",
    "\n",
    "**Mathematical Model:**\n",
    "\n",
    "The Black-Scholes formula for a European call option is:\n",
    "\n",
    "$$\n",
    "C = e^{-rT} \\mathbb{E}[\\max(S_T - K, 0)]\n",
    "$$\n",
    "\n",
    "Where:\n",
    "\n",
    "- \\( $C$ \\): Option price\n",
    "- \\( $S_T$ \\): Asset price at maturity\n",
    "- \\( $K$ \\): Strike price\n",
    "- \\( $r$ \\): Risk-free interest rate\n",
    "- \\( $T$ \\): Time to maturity\n",
    "- \\( $\\mathbb{E}$ \\): Expected value under the risk-neutral measure\n",
    "\n",
    "**Simulation Steps:**\n",
    "\n",
    "1. **Simulate Asset Paths:**\n",
    "\n",
    "   - Model the asset price \\( $S_t$ \\) as a geometric Brownian motion:\n",
    "   \n",
    "     $$\n",
    "     S_T = S_0 \\exp\\left\\{\\left(r - \\frac{\\sigma^2}{2}\\right)T + \\sigma W_T\\right\\}\n",
    "     $$\n",
    "     \n",
    "     Where:\n",
    "     \n",
    "     - \\( $S_0$ \\): Current asset price\n",
    "     - \\( $\\sigma$ \\): Volatility of the asset\n",
    "     - \\( $W_T$ \\): Standard Brownian motion over time \\( $T$ \\), which can be simulated as \\( $W_T = \\sqrt{T} \\cdot Z$ \\), with \\( $Z$ \\) being a standard normal random variable.\n",
    "   \n",
    "2. **Calculate Payoffs:**\n",
    "\n",
    "   - For each simulated path, calculate the payoff \\( $\\max(S_T - K, 0)$ \\).\n",
    "   \n",
    "3. **Estimate Option Price:**\n",
    "\n",
    "   - Compute the average of the discounted payoffs to estimate the option price."
   ]
  },
  {
   "cell_type": "code",
   "execution_count": 1,
   "metadata": {},
   "outputs": [],
   "source": [
    "import numpy as np"
   ]
  },
  {
   "cell_type": "code",
   "execution_count": 2,
   "metadata": {},
   "outputs": [],
   "source": [
    "def monte_carlo_option_pricing(S0, K, T, r, sigma, num_simulations):\n",
    "    # Step 1: Simulate Asset Paths\n",
    "    Z = np.random.standard_normal(num_simulations)\n",
    "    ST = S0 * np.exp((r - 0.5 * sigma**2) * T + sigma * np.sqrt(T) * Z)\n",
    "\n",
    "    # Step 2: Calculate Payoffs\n",
    "    payoffs = np.maximum(ST - K, 0)\n",
    "\n",
    "    # Step 3: Discount Payoffs Back to Present Value\n",
    "    C0 = np.exp(-r * T) * np.mean(payoffs)\n",
    "    return C0"
   ]
  },
  {
   "cell_type": "code",
   "execution_count": 3,
   "metadata": {},
   "outputs": [],
   "source": [
    "# Parameters\n",
    "S0 = 100        # Current stock price\n",
    "K = 105         # Strike Price\n",
    "T = 1.0         # Time to Maturity (1 year)\n",
    "r = 0.05        # Risk-free interest rate\n",
    "sigma = 0.2     # Volatility\n",
    "num_simulations = 1_000_000"
   ]
  },
  {
   "cell_type": "code",
   "execution_count": 5,
   "metadata": {},
   "outputs": [
    {
     "name": "stdout",
     "output_type": "stream",
     "text": [
      "Estimated European Call Option Price: 8.0118\n"
     ]
    }
   ],
   "source": [
    "option_price = monte_carlo_option_pricing(S0, K, T, r, sigma, num_simulations)\n",
    "print(f\"Estimated European Call Option Price: {option_price:.4f}\")"
   ]
  },
  {
   "cell_type": "markdown",
   "metadata": {},
   "source": [
    "**Explanation:**\n",
    "\n",
    "- **Random Variable \\( $Z$ \\):** Simulates the standard normal variates for the Brownian motion.\n",
    "- **Simulated Asset Prices \\( $S_T$ \\):** Uses the geometric Brownian motion formula.\n",
    "- **Payoffs:** Calculates the intrinsic value of the option at maturity.\n",
    "- **Discounting:** Brings future payoffs to present value using the exponential discount factor.\n",
    "\n",
    "**Benefits:**\n",
    "\n",
    "- Can handle complex options with features like path dependency, early exercise, and multiple underlying assets.\n",
    "- Flexible and easy to implement for high-dimensional problems.\n"
   ]
  },
  {
   "cell_type": "markdown",
   "metadata": {},
   "source": []
  }
 ],
 "metadata": {
  "kernelspec": {
   "display_name": "base",
   "language": "python",
   "name": "python3"
  },
  "language_info": {
   "codemirror_mode": {
    "name": "ipython",
    "version": 3
   },
   "file_extension": ".py",
   "mimetype": "text/x-python",
   "name": "python",
   "nbconvert_exporter": "python",
   "pygments_lexer": "ipython3",
   "version": "3.11.5"
  }
 },
 "nbformat": 4,
 "nbformat_minor": 2
}
